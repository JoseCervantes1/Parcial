{
  "nbformat": 4,
  "nbformat_minor": 0,
  "metadata": {
    "colab": {
      "provenance": [],
      "authorship_tag": "ABX9TyNZdsd51YiwePZRtuqcQxV/",
      "include_colab_link": true
    },
    "kernelspec": {
      "name": "python3",
      "display_name": "Python 3"
    },
    "language_info": {
      "name": "python"
    }
  },
  "cells": [
    {
      "cell_type": "markdown",
      "metadata": {
        "id": "view-in-github",
        "colab_type": "text"
      },
      "source": [
        "<a href=\"https://colab.research.google.com/github/JoseCervantes1/Parcial/blob/main/TareaGrupal%2030/10/2025.ipynb\" target=\"_parent\"><img src=\"https://colab.research.google.com/assets/colab-badge.svg\" alt=\"Open In Colab\"/></a>"
      ]
    },
    {
      "cell_type": "code",
      "execution_count": null,
      "metadata": {
        "id": "959Iq2x5N0Kc"
      },
      "outputs": [],
      "source": [
        "#1 Proponer una representación con tuplas para las cartas de una baraja.\n",
        "\n",
        "valores = (\"As\", \"2\", \"3\", \"4\", \"5\", \"6\", \"7\", \"8\", \"9\", \"10\", \"J\", \"Q\", \"K\")\n",
        "Palos =(\"corazones\", \"Diamantes\", \"treboles\", \"picas\")\n",
        "\n",
        "baraja =[(valor, palo) for valor in valores for palo in Palos ]\n",
        "\n",
        "print(baraja[5])\n",
        "print(len(baraja))\n"
      ]
    },
    {
      "cell_type": "code",
      "source": [
        "#2 Escribir una funcion poker que reciba cinco cartas de la baraja e informe si esas cartas forman o no un poker (es decir que hay cartas con el mismo numero.)\n",
        "\n",
        "from collections import Counter\n",
        "\n",
        "def es_poker(cartas):\n",
        "  contador = Counter(cartas)\n",
        "  for valor, cantidad in contador.items():\n",
        "    if cantidad == 4:\n",
        "      return True\n",
        "  return False\n",
        "\n",
        "def main():\n",
        "  cartas = []\n",
        "  print(\"Ingrese las 5 cartas\")\n",
        "  for i in range(5):\n",
        "    carta = input(f\"ingrese el numero de la carta {i+1}: \").upper()\n",
        "    cartas.append(carta)\n",
        "\n",
        "  if es_poker(cartas):\n",
        "    print(\"TIENES POKER\")\n",
        "  else:\n",
        "    print(\"Lastimosamente no tienes POKER\")\n",
        "\n",
        "if __name__ == \"__main__\":\n",
        "  main()"
      ],
      "metadata": {
        "id": "sLpnLG7QPqGO"
      },
      "execution_count": null,
      "outputs": []
    },
    {
      "cell_type": "code",
      "source": [
        "#3 Escribir una funcion que reciba dos vectores y devuelva su producto escalar\n",
        "vector1 = [10,5,23]\n",
        "vector2 = [50,1,17]\n",
        "producto_punto=0\n",
        "for elemento_vector1 , elemento_vector2 in zip(vector1,vector2):\n",
        "    multi_vector_res= elemento_vector1*elemento_vector2\n",
        "    producto_punto+=multi_vector_res\n",
        "\n",
        "print (f\"el producto punto del vector {vector1} con el vector {vector2} es {producto_punto}.\")\n",
        "#4\n",
        "\n",
        "if producto_punto == 0:\n",
        "    print(f\"Los vectores {vector1} y {vector2} son ortogonales entre sí\")\n",
        "else:\n",
        "    print(f\"Los vectores {vector1} y {vector2} no son ortogonales entre sí\")"
      ],
      "metadata": {
        "id": "eSDsjDwYPz9R"
      },
      "execution_count": null,
      "outputs": []
    },
    {
      "cell_type": "code",
      "source": [
        "#5\n",
        "\n",
        "def son_paralelos(v1, v2):\n",
        "    if len(v1) != len(v2):\n",
        "        return \"no paralelo\"\n",
        "\n",
        "    K = None\n",
        "\n",
        "    for a, b in zip(v1,v2):\n",
        "        if a == 0 and b == 0:\n",
        "            continue\n",
        "        if b == 0:\n",
        "            return \"no paralelo\"\n",
        "\n",
        "        razon = a/b\n",
        "\n",
        "        if K is None:\n",
        "\n",
        "            K = razon\n",
        "\n",
        "        elif abs(razon -K) > 1e-9:\n",
        "            return \"no paralelo\"\n",
        "\n",
        "    return \"paralelo\"\n",
        "\n",
        "print(son_paralelos((2, 4), (1, 2)))\n",
        "print(son_paralelos((3, 5), (1, 2)))\n",
        "print(son_paralelos((3, 6, 9), (1, 2, 3)))"
      ],
      "metadata": {
        "id": "ZiZapudHRsHe"
      },
      "execution_count": null,
      "outputs": []
    },
    {
      "cell_type": "code",
      "source": [
        "#6\n",
        "import math\n",
        "\n",
        "def norma_vector(vector):\n",
        "    suma = 0\n",
        "    for x in vector:\n",
        "        suma += x**2\n",
        "    return math.sqrt(suma)\n",
        "\n",
        "v = [3, 4]\n",
        "print(\"Norma del vector:\", norma_vector(v))"
      ],
      "metadata": {
        "id": "2dkxBOTGTZQC"
      },
      "execution_count": null,
      "outputs": []
    },
    {
      "cell_type": "code",
      "source": [
        "#7\n",
        "def clasificar_lista(lista, k):\n",
        "    menores = []\n",
        "    iguales = []\n",
        "    mayores = []\n",
        "\n",
        "    for num in lista:\n",
        "        if num < k:\n",
        "            menores.append(num)\n",
        "        elif num == k:\n",
        "            iguales.append(num)\n",
        "        else:\n",
        "            mayores.append(num)\n",
        "\n",
        "    return menores, iguales, mayores\n",
        "\n",
        "numeros = [1, 5, 3, 5, 7, 2, 5]\n",
        "k = 5\n",
        "print(clasificar_lista(numeros, k))\n",
        "\n",
        "def multiplos_de_k(lista, k):\n",
        "    multiplos = []\n",
        "    for num in lista:\n",
        "        if num % k == 0:\n",
        "            multiplos.append(num)\n",
        "    return multiplos\n",
        "\n",
        "numeros = [2, 5, 10, 7, 15, 21]\n",
        "k = 5\n",
        "print(multiplos_de_k(numeros, k))"
      ],
      "metadata": {
        "id": "z9n7FbolTbHM"
      },
      "execution_count": null,
      "outputs": []
    }
  ]
}