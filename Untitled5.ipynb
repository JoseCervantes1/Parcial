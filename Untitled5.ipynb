{
  "nbformat": 4,
  "nbformat_minor": 0,
  "metadata": {
    "colab": {
      "provenance": [],
      "authorship_tag": "ABX9TyNXhalSTsL+vVYw0vGNuiZd",
      "include_colab_link": true
    },
    "kernelspec": {
      "name": "python3",
      "display_name": "Python 3"
    },
    "language_info": {
      "name": "python"
    }
  },
  "cells": [
    {
      "cell_type": "markdown",
      "metadata": {
        "id": "view-in-github",
        "colab_type": "text"
      },
      "source": [
        "<a href=\"https://colab.research.google.com/github/JoseCervantes1/Parcial/blob/main/Untitled5.ipynb\" target=\"_parent\"><img src=\"https://colab.research.google.com/assets/colab-badge.svg\" alt=\"Open In Colab\"/></a>"
      ]
    },
    {
      "cell_type": "code",
      "source": [
        "#Nombres: Jose Cervantes, Angelly de los Reyes, Dylan Jimenez, Daniel Mendoza, Angelina Salas\n",
        "#Curso: 3_SIN_G2\n",
        "#PRIMER EJERCICIO\n",
        "def num_positivo():\n",
        "    numlim = int(input(\"Por favor escriba un número positivo entero\"))\n",
        "    if numlim > 0:\n",
        "        diccionario_num_cuadrado = {}\n",
        "        for numero in range(1, numlim+1):\n",
        "            diccionario_num_cuadrado[numero] = numero**2\n",
        "        return(diccionario_num_cuadrado)\n",
        "    else:\n",
        "        print(\"El número ingresado no es válido\")\n",
        "    return(None)\n",
        "resultado = num_positivo()\n",
        "print(resultado)"
      ],
      "metadata": {
        "id": "l56WK-Ec3PBi"
      },
      "execution_count": null,
      "outputs": []
    },
    {
      "cell_type": "code",
      "source": [
        "#Numero 2\n",
        "def contar_aparaciones(cadena):\n",
        "  contador={}\n",
        "  for caracter in cadena:\n",
        "    if caracter in contador:\n",
        "      contador[caracter] += 1\n",
        "    else:\n",
        "      contador[caracter] = 1\n",
        "  return contador\n",
        "frase = input(\"Ingrese texto a evaluar\")\n",
        "palabra = contar_aparaciones(frase)\n",
        "print(palabra)"
      ],
      "metadata": {
        "id": "vzK7CeE_3DXB"
      },
      "execution_count": null,
      "outputs": []
    },
    {
      "cell_type": "code",
      "execution_count": null,
      "metadata": {
        "id": "0FVCzJ6t2whp"
      },
      "outputs": [],
      "source": [
        "#Numero 3\n",
        "diccionario_fruta_precio = {\n",
        "    \"manzana\": 3.000,\n",
        "    \"piña\": 5.000,\n",
        "    \"lulo\": 2.65,\n",
        "    \"melocotón\": 2.300,\n",
        "}\n",
        "\n",
        "while True:\n",
        "    fruta = input(\"Por favor, ingrese el nombre de la fruta: \").lower()\n",
        "    if fruta in diccionario_fruta_precio:\n",
        "        cantidad = float(input(\"Cantidad vendida: \"))\n",
        "        total = diccionario_fruta_precio[fruta] * cantidad\n",
        "        print(f\"El precio total por {cantidad} {fruta} es {total:.2f}\")\n",
        "    else:\n",
        "        print(\"Esa fruta no está en el diccionario\")\n",
        "\n",
        "    opcion = input(\"¿Quieres consultar otra fruta? (s/n): \").lower()\n",
        "    if opcion == \"n\":\n",
        "        print(\"¡GRACIASSSS, hasta lueguito!\")\n",
        "        break"
      ]
    }
  ]
}