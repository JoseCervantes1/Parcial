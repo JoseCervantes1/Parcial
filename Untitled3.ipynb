{
  "nbformat": 4,
  "nbformat_minor": 0,
  "metadata": {
    "colab": {
      "provenance": [],
      "authorship_tag": "ABX9TyN8vWQjPCZ7/S0V/vazfhWY",
      "include_colab_link": true
    },
    "kernelspec": {
      "name": "python3",
      "display_name": "Python 3"
    },
    "language_info": {
      "name": "python"
    }
  },
  "cells": [
    {
      "cell_type": "markdown",
      "metadata": {
        "id": "view-in-github",
        "colab_type": "text"
      },
      "source": [
        "<a href=\"https://colab.research.google.com/github/JoseCervantes1/Parcial/blob/main/Untitled3.ipynb\" target=\"_parent\"><img src=\"https://colab.research.google.com/assets/colab-badge.svg\" alt=\"Open In Colab\"/></a>"
      ]
    },
    {
      "cell_type": "code",
      "execution_count": null,
      "metadata": {
        "id": "OiEV32syqT63"
      },
      "outputs": [],
      "source": [
        "# Pide tres números e imprime el mayor de ellos.\n",
        "\n",
        "num1 = float(input(\"Ingresa el primer número: \"))\n",
        "num2 = float(input(\"Ingresa el segundo número: \"))\n",
        "num3 = float(input(\"Ingresa el tercer número: \"))\n",
        "mayor = max(num1, num2, num3)\n",
        "print(\"El número mayor es:\", mayor)"
      ]
    },
    {
      "cell_type": "code",
      "source": [
        "# Pide un número y muestra todos los pares desde 1 hasta ese número.\n",
        "numero = int(input(\"Ingresa un número entero: \"))\n",
        "\n",
        "print(f\"Números pares hasta {numero}:\")\n",
        "for i in range(1, numero + 1):\n",
        "    if i % 2 == 0:\n",
        "        print(i)\n"
      ],
      "metadata": {
        "id": "OE-k_P7XsAx3"
      },
      "execution_count": null,
      "outputs": []
    },
    {
      "cell_type": "code",
      "source": [
        "\n",
        "# Simula una calculadora(Suma,resta,multiplicacion,division)\n",
        "\n",
        "print(\"Calculadora\")\n",
        "print(\"Operaciones disponibles:\")\n",
        "print(\"1. Suma\")\n",
        "print(\"2. Resta\")\n",
        "print(\"3. Multiplicación\")\n",
        "print(\"4. División\")\n",
        "\n",
        "opcion = input(\"Elige una operación (1-2-3-4): \")\n",
        "num1 = float(input(\"Ingresa el primer número: \"))\n",
        "num2 = float(input(\"Ingresa el segundo número: \"))\n",
        "if opcion == '1':\n",
        "    resultado = num1 + num2\n",
        "    print(f\"Resultado:{num1} +{num2} = {resultado}\")\n",
        "elif opcion == \"2\":\n",
        "    resultado = num1 - num2\n",
        "    print(f\"Resultado:{num1}-{num2} = {resultado}\")\n",
        "elif opcion == '3':\n",
        "    resultado = num1 * num2\n",
        "    print(f\"Resultado:{num1} * {num2} = {resultado}\")\n",
        "elif opcion == '4':\n",
        "    if num2 != 0:\n",
        "        resultado = num1 / num2\n",
        "        print(f\"Resultado: {num1} / {num2} = {resultado}\")\n",
        "    else:\n",
        "        print(\"Error: No se puede dividir entre cero.\")\n",
        "else:\n",
        "    print(\"Opción inválida. Por favor elige 1, 2, 3 o 4.\")"
      ],
      "metadata": {
        "id": "iRDll2v0skCq"
      },
      "execution_count": null,
      "outputs": []
    },
    {
      "cell_type": "code",
      "source": [
        "# Pide un numero y muestra su tabla de multiplicar\n",
        "\n",
        "numero = int(input(\"Ingresa un número entero: \"))\n",
        "\n",
        "print(f\"Tabla de multiplicar del {numero}:\")\n",
        "for i in range(1, 11):\n",
        "    resultado = numero * i\n",
        "    print(f\"{numero} x {i} = {resultado}\")\n"
      ],
      "metadata": {
        "id": "auv4dcaTrGRN"
      },
      "execution_count": null,
      "outputs": []
    }
  ]
}